{
 "cells": [
  {
   "cell_type": "code",
   "execution_count": 1,
   "metadata": {},
   "outputs": [
    {
     "name": "stdout",
     "output_type": "stream",
     "text": [
      "Year\n",
      "Month\n",
      "Day\n",
      "Country\n",
      "State\n",
      "Region\n",
      "City\n",
      "Latitude\n",
      "Longitude\n",
      "AttackType\n",
      "Killed\n",
      "Wounded\n",
      "Target\n",
      "Summary\n",
      "Group\n",
      "Target_type\n",
      "Weapon_type\n"
     ]
    }
   ],
   "source": [
    "import numpy as np\n",
    "import csv\n",
    "\n",
    "with open('terrorismData.csv', 'r') as file_obj:\n",
    "    file_data = csv.DictReader(file_obj, skipinitialspace=True)\n",
    "    file_list = list(file_data)\n",
    "    \n",
    "    for row in file_data.fieldnames:\n",
    "        print(row)\n",
    "        "
   ]
  },
  {
   "cell_type": "code",
   "execution_count": 21,
   "metadata": {},
   "outputs": [
    {
     "name": "stdout",
     "output_type": "stream",
     "text": [
      "66330\n"
     ]
    }
   ],
   "source": [
    "## Terrorism Day\n",
    "import numpy as np\n",
    "import csv\n",
    "\n",
    "with open('terrorismData.csv', 'r') as file_obj:\n",
    "    file_data = csv.DictReader(file_obj, skipinitialspace=True)\n",
    "    # file_list = list(file_data)\n",
    "    \n",
    "    # count = 0\n",
    "    # for row in file_data:\n",
    "    #     key = row['Day']\n",
    "    #     key = int(key)\n",
    "    #     if key >= 10 and key <= 20:\n",
    "    #         count = count + 1\n",
    "            \n",
    "    # print(count)\n",
    "    \n",
    "    day = []\n",
    "    for row in file_data:\n",
    "        k = row['Day']\n",
    "        day.append(k)\n",
    "        \n",
    "    np_day = np.array(day)\n",
    "    np_day = np.array(np_day, dtype=int)\n",
    "    np_day = np_day[np_day >= 10]\n",
    "    np_day = np_day[np_day <= 20]\n",
    "    print(np_day.size)"
   ]
  },
  {
   "cell_type": "code",
   "execution_count": 43,
   "metadata": {},
   "outputs": [
    {
     "name": "stdout",
     "output_type": "stream",
     "text": [
      "271\n"
     ]
    }
   ],
   "source": [
    "## Terrorism Date\n",
    "import numpy as np\n",
    "import csv\n",
    "\n",
    "with open('terrorismData.csv', 'r') as file_obj:\n",
    "    file_data = csv.DictReader(file_obj, skipinitialspace=True)\n",
    "    # file_list = list(file_data)\n",
    "    \n",
    "    count = 0\n",
    "    for row in file_data:\n",
    "        key = row['Year']\n",
    "        key = int(key)\n",
    "        if key == 2010:\n",
    "            key = row['Day']\n",
    "            if int(row['Month']) == 1 and int(key) > 0:\n",
    "                count = count + 1\n",
    "                \n",
    "            \n",
    "    print(count)"
   ]
  },
  {
   "cell_type": "code",
   "execution_count": 42,
   "metadata": {},
   "outputs": [
    {
     "name": "stdout",
     "output_type": "stream",
     "text": [
      "300 Unknown Unknown\n"
     ]
    }
   ],
   "source": [
    "## Terror Casualty Attack\n",
    "import numpy as np\n",
    "import csv\n",
    "\n",
    "with open('terrorismData.csv', 'r') as file_obj:\n",
    "    file_data = csv.DictReader(file_obj, skipinitialspace=True)\n",
    "    # file_list = list(file_data)\n",
    "    \n",
    "    maxcasualty = 0\n",
    "    city = ''\n",
    "    TerrorGroup = ''\n",
    "    for row in file_data:\n",
    "        year = row['Year']\n",
    "        month = row['Month']\n",
    "        year = int(year)\n",
    "        month = int(month)\n",
    "        casualty = 0\n",
    "        if year == 1999 and month >= 5 and month <= 7:\n",
    "            k = row['Killed']\n",
    "            if k != '':\n",
    "                k = int(float(k))\n",
    "            else:\n",
    "                k = 0\n",
    "            \n",
    "            w = row['Wounded']\n",
    "            if w != '':\n",
    "                w = int(float(w))\n",
    "            else:\n",
    "                w = 0\n",
    "            casualty = k + w\n",
    "            if casualty > maxcasualty:\n",
    "                maxcasualty = casualty\n",
    "                city = row['City']\n",
    "                TerrorGroup = row['Group']\n",
    "            \n",
    "    print(maxcasualty , city , TerrorGroup)"
   ]
  },
  {
   "cell_type": "code",
   "execution_count": 46,
   "metadata": {},
   "outputs": [
    {
     "name": "stdout",
     "output_type": "stream",
     "text": [
      "5628\n"
     ]
    }
   ],
   "source": [
    "## Terror Casualty Red\n",
    "import numpy as np\n",
    "import csv\n",
    "\n",
    "with open('terrorismData.csv', 'r') as file_obj:\n",
    "    file_data = csv.DictReader(file_obj, skipinitialspace=True)\n",
    "    # file_list = list(file_data)\n",
    "    \n",
    "    casualty = 0\n",
    "    for row in file_data:\n",
    "        state = row['State']\n",
    "        if state == 'Jharkhand' or state == 'Odisha' or state == 'Andhra Pradesh' or state == 'Chhattisgarh':\n",
    "            k = row['Killed']\n",
    "            if k != '':\n",
    "                k = int(float(k))\n",
    "            else:\n",
    "                k = 0\n",
    "            \n",
    "            w = row['Wounded']\n",
    "            if w != '':\n",
    "                w = int(float(w))\n",
    "            else:\n",
    "                w = 0\n",
    "            casualty += k + w\n",
    "            \n",
    "    print(casualty)"
   ]
  },
  {
   "cell_type": "code",
   "execution_count": 11,
   "metadata": {},
   "outputs": [
    {
     "name": "stdout",
     "output_type": "stream",
     "text": [
      "('Srinagar', 3134)\n",
      "('Unknown', 2527)\n",
      "('New Delhi', 2095)\n",
      "('Mumbai', 2016)\n",
      "('Jammu', 1119)\n"
     ]
    }
   ],
   "source": [
    "## Top 5 City of India which has most casualities\n",
    "import numpy as np\n",
    "import csv\n",
    "\n",
    "with open('terrorismData.csv', 'r') as file_obj:\n",
    "    file_data = csv.DictReader(file_obj, skipinitialspace=True)\n",
    "    # file_list = list(file_data)\n",
    "    \n",
    "    city = {}\n",
    "    for row in file_data:\n",
    "        cty = row['City']\n",
    "        k = row['Killed']\n",
    "        country = row['Country']\n",
    "        if k != '':\n",
    "            k = int(float(k))\n",
    "        else:\n",
    "            k = 0\n",
    "        \n",
    "        w = row['Wounded']\n",
    "        if w != '':\n",
    "            w = int(float(w))\n",
    "        else:\n",
    "            w = 0\n",
    "        casualty = k + w\n",
    "        if cty in city and country == 'India':\n",
    "            city[cty] += casualty\n",
    "        elif country == 'India':\n",
    "            city[cty] = casualty\n",
    "    \n",
    "    a = sorted(city.items(), key=lambda x: x[1], reverse=True)\n",
    "           \n",
    "    # print(a)\n",
    "    for x in range(0,5):\n",
    "        print(a[x])"
   ]
  },
  {
   "cell_type": "code",
   "execution_count": 14,
   "metadata": {},
   "outputs": [
    {
     "name": "stdout",
     "output_type": "stream",
     "text": [
      "('15', 6500)\n"
     ]
    }
   ],
   "source": [
    "## Terrorism Frequent Day\n",
    "import numpy as np\n",
    "import csv\n",
    "\n",
    "with open('terrorismData.csv', 'r') as file_obj:\n",
    "    file_data = csv.DictReader(file_obj, skipinitialspace=True)\n",
    "    # file_list = list(file_data)\n",
    "    \n",
    "    day = {}\n",
    "    for row in file_data:\n",
    "        d = row['Day']\n",
    "        if d in day:\n",
    "            day[d] += 1\n",
    "        else:\n",
    "            day[d] = 1\n",
    "    \n",
    "    a = sorted(day.items(), key=lambda x: x[1], reverse=True)\n",
    "    # print(a)\n",
    "    print(a[0])"
   ]
  }
 ],
 "metadata": {
  "kernelspec": {
   "display_name": "Python 3",
   "language": "python",
   "name": "python3"
  },
  "language_info": {
   "codemirror_mode": {
    "name": "ipython",
    "version": 3
   },
   "file_extension": ".py",
   "mimetype": "text/x-python",
   "name": "python",
   "nbconvert_exporter": "python",
   "pygments_lexer": "ipython3",
   "version": "3.10.6"
  },
  "orig_nbformat": 4,
  "vscode": {
   "interpreter": {
    "hash": "e7370f93d1d0cde622a1f8e1c04877d8463912d04d973331ad4851f04de6915a"
   }
  }
 },
 "nbformat": 4,
 "nbformat_minor": 2
}
